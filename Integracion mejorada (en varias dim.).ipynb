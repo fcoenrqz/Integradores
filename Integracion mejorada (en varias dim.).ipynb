{
 "cells": [
  {
   "cell_type": "markdown",
   "metadata": {},
   "source": [
    "Para obtener un mejor resultado es mejor utilizar la aproximación a segundo orden y con varias variables. Como vimos en clase:\n",
    "\n",
    "$$\n",
    "\\vec y_{n+1} = \\vec y_n + h \\vec f + \\frac{1}{2} h^2 \\left( \\frac{\\partial \\vec f}{\\partial x} + \\mathbb{J} \\vec f \\right)\n",
    "$$\n",
    "donde $f$ es $\\vec f(x_n,\\vec y_n$), $\\mathbb{J}$ es el jacobiano de $f$ evaluado en $(x_o,\\vec y_0)$, y el orden del error es de $O(h^2)$"
   ]
  },
  {
   "cell_type": "code",
   "execution_count": 1,
   "metadata": {
    "collapsed": true
   },
   "outputs": [],
   "source": [
    "from pylab import *\n",
    "%matplotlib inline"
   ]
  },
  {
   "cell_type": "code",
   "execution_count": null,
   "metadata": {
    "collapsed": true
   },
   "outputs": [],
   "source": [
    "def integrador(f,jac,p_ini,x,h=0.1):\n",
    "    yn1 = yn + (h*f) +(0.5*h*h*jac[0]) + dot(jac[1],f) \n",
    "    "
   ]
  },
  {
   "cell_type": "code",
   "execution_count": null,
   "metadata": {
    "collapsed": true
   },
   "outputs": [],
   "source": []
  },
  {
   "cell_type": "code",
   "execution_count": null,
   "metadata": {
    "collapsed": true
   },
   "outputs": [],
   "source": []
  },
  {
   "cell_type": "code",
   "execution_count": null,
   "metadata": {
    "collapsed": true
   },
   "outputs": [],
   "source": []
  },
  {
   "cell_type": "code",
   "execution_count": null,
   "metadata": {
    "collapsed": true
   },
   "outputs": [],
   "source": []
  },
  {
   "cell_type": "markdown",
   "metadata": {},
   "source": [
    "Matrix no es Matriz "
   ]
  },
  {
   "cell_type": "code",
   "execution_count": 27,
   "metadata": {
    "collapsed": false
   },
   "outputs": [],
   "source": [
    "A = array([[1,0],[0,1]])\n",
    "A2 = matrix([[2,0],[0,2]])"
   ]
  },
  {
   "cell_type": "code",
   "execution_count": 30,
   "metadata": {
    "collapsed": false
   },
   "outputs": [
    {
     "name": "stdout",
     "output_type": "stream",
     "text": [
      "[[1 0]\n",
      " [0 1]] 0\n",
      "[[2 0]\n",
      " [0 2]]\n",
      "[[2 0]\n",
      " [0 6]]\n",
      "[2 6]\n"
     ]
    }
   ],
   "source": [
    "print A,A[0,1]\n",
    "print A2\n",
    "b = [2,6]\n",
    "print A*b\n",
    "print dot(A,b)"
   ]
  },
  {
   "cell_type": "code",
   "execution_count": 41,
   "metadata": {
    "collapsed": false
   },
   "outputs": [],
   "source": [
    "B = array([[1,2],[3,4]])\n",
    "C = array([[6,7],[5,4]])"
   ]
  },
  {
   "cell_type": "code",
   "execution_count": 42,
   "metadata": {
    "collapsed": false
   },
   "outputs": [
    {
     "name": "stdout",
     "output_type": "stream",
     "text": [
      "[[16 15]\n",
      " [38 37]]\n",
      "[[ 6 14]\n",
      " [15 16]]\n"
     ]
    }
   ],
   "source": [
    "print dot(B,C)\n",
    "print B*C"
   ]
  }
 ],
 "metadata": {
  "kernelspec": {
   "display_name": "Python [Root]",
   "language": "python",
   "name": "Python [Root]"
  },
  "language_info": {
   "codemirror_mode": {
    "name": "ipython",
    "version": 2
   },
   "file_extension": ".py",
   "mimetype": "text/x-python",
   "name": "python",
   "nbconvert_exporter": "python",
   "pygments_lexer": "ipython2",
   "version": "2.7.12"
  }
 },
 "nbformat": 4,
 "nbformat_minor": 0
}

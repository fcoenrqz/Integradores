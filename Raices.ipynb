{
 "cells": [
  {
   "cell_type": "code",
   "execution_count": 1,
   "metadata": {
    "collapsed": true
   },
   "outputs": [],
   "source": [
    "from pylab import *\n",
    "%matplotlib inline"
   ]
  },
  {
   "cell_type": "markdown",
   "metadata": {},
   "source": [
    "### Método de Biparticion"
   ]
  },
  {
   "cell_type": "code",
   "execution_count": 2,
   "metadata": {
    "collapsed": false
   },
   "outputs": [],
   "source": [
    "def raiz_bip(func,x_i,x_d,err=1e-8):\n",
    "    raiz = 0.5*(x_i+x_d)\n",
    "    y_i =func(x_i)\n",
    "    y_d = func(x_d)\n",
    "    n = 0\n",
    "    while abs(y_d) >= err:\n",
    "        y_m = func(raiz)\n",
    "        if y_m == 0:\n",
    "            raiz = raiz\n",
    "            break\n",
    "        elif y_m *y_i <0:\n",
    "            x_d = raiz\n",
    "        else:\n",
    "            x_i = raiz\n",
    "        raiz = 0.5*(x_i+x_d)\n",
    "        y_i =func(x_i)\n",
    "        y_d = func(x_d)\n",
    "        n += 1\n",
    "        print \"paso:\",n, \"   raiz:\",raiz\n",
    "    return raiz\n",
    "           "
   ]
  },
  {
   "cell_type": "markdown",
   "metadata": {
    "collapsed": true
   },
   "source": [
    "### MÉTODO DE NEWTON"
   ]
  },
  {
   "cell_type": "code",
   "execution_count": 3,
   "metadata": {
    "collapsed": false
   },
   "outputs": [],
   "source": [
    "def mi_newton1(func,d_func,x_i, err = 1e-8):\n",
    "    n =0\n",
    "    while abs(func(x_i))>= err:\n",
    "        print n,x_i \n",
    "        x_f = x_i - func(x_i)/d_func(x_i)\n",
    "        x_i = x_f\n",
    "        n += 1\n",
    "    return x_f"
   ]
  },
  {
   "cell_type": "code",
   "execution_count": 4,
   "metadata": {
    "collapsed": false
   },
   "outputs": [
    {
     "data": {
      "image/png": "[encoded data removed]",
      "text/plain": [
       "<matplotlib.figure.Figure at 0x7fab5c57d490>"
      ]
     },
     "metadata": {},
     "output_type": "display_data"
    }
   ],
   "source": [
    "x = linspace(-1,1)\n",
    "plot(x,sin(x))\n",
    "grid(True)"
   ]
  },
  {
   "cell_type": "code",
   "execution_count": 5,
   "metadata": {
    "collapsed": false
   },
   "outputs": [
    {
     "name": "stdout",
     "output_type": "stream",
     "text": [
      "0 2\n",
      "1 4.18503986326\n",
      "2 2.46789367451\n",
      "3 3.26618627757\n",
      "4 3.14094391232\n"
     ]
    },
    {
     "data": {
      "text/plain": [
       "3.1415926536808043"
      ]
     },
     "execution_count": 5,
     "metadata": {},
     "output_type": "execute_result"
    }
   ],
   "source": [
    "mi_newton1(sin,cos,2)"
   ]
  },
  {
   "cell_type": "code",
   "execution_count": 6,
   "metadata": {
    "collapsed": false
   },
   "outputs": [
    {
     "name": "stdout",
     "output_type": "stream",
     "text": [
      "paso: 1    raiz: 3.25\n",
      "paso: 2    raiz: 3.125\n",
      "paso: 3    raiz: 3.1875\n",
      "paso: 4    raiz: 3.15625\n",
      "paso: 5    raiz: 3.140625\n",
      "paso: 6    raiz: 3.1484375\n",
      "paso: 7    raiz: 3.14453125\n",
      "paso: 8    raiz: 3.142578125\n",
      "paso: 9    raiz: 3.1416015625\n",
      "paso: 10    raiz: 3.14111328125\n",
      "paso: 11    raiz: 3.14135742188\n",
      "paso: 12    raiz: 3.14147949219\n",
      "paso: 13    raiz: 3.14154052734\n",
      "paso: 14    raiz: 3.14157104492\n",
      "paso: 15    raiz: 3.14158630371\n",
      "paso: 16    raiz: 3.14159393311\n",
      "paso: 17    raiz: 3.14159011841\n",
      "paso: 18    raiz: 3.14159202576\n",
      "paso: 19    raiz: 3.14159297943\n",
      "paso: 20    raiz: 3.14159250259\n",
      "paso: 21    raiz: 3.14159274101\n",
      "paso: 22    raiz: 3.1415926218\n",
      "paso: 23    raiz: 3.14159268141\n",
      "paso: 24    raiz: 3.14159265161\n",
      "paso: 25    raiz: 3.14159266651\n",
      "paso: 26    raiz: 3.14159265906\n",
      "paso: 27    raiz: 3.14159265533\n"
     ]
    },
    {
     "data": {
      "text/plain": [
       "3.1415926553308964"
      ]
     },
     "execution_count": 6,
     "metadata": {},
     "output_type": "execute_result"
    }
   ],
   "source": [
    "raiz_bip(sin,3,4)"
   ]
  },
  {
   "cell_type": "code",
   "execution_count": 7,
   "metadata": {
    "collapsed": false
   },
   "outputs": [],
   "source": [
    "def func1(x):\n",
    "    return (x-1)**5\n",
    "def d_func1(x):\n",
    "    return 5*(x-1)**4"
   ]
  },
  {
   "cell_type": "code",
   "execution_count": 8,
   "metadata": {
    "collapsed": true
   },
   "outputs": [],
   "source": [
    "def func2(x):\n",
    "    return tan(sqrt(pi-8*x))**3 + x**2\n",
    "def d_func2(x):\n",
    "    return 2*x - 12*(tan(sqrt(-8*x + pi))**2 + 1)*tan(sqrt(-8*x + pi))**2/sqrt(-8*x + pi)"
   ]
  },
  {
   "cell_type": "code",
   "execution_count": 9,
   "metadata": {
    "collapsed": false
   },
   "outputs": [
    {
     "data": {
      "image/png": "[encoded data removed]",
      "text/plain": [
       "<matplotlib.figure.Figure at 0x7fab5a05d950>"
      ]
     },
     "metadata": {},
     "output_type": "display_data"
    }
   ],
   "source": [
    "x = linspace(-5,0,100)\n",
    "plot(x,func2(x))\n",
    "plot(-2.9426781293,0,\"o\")\n",
    "plot(-0.4564904570579529,0,\"o\")\n",
    "plot(-2.9426781275819383,0,\"o\")\n",
    "ylim(-30,30)\n",
    "grid(True)\n",
    "show()"
   ]
  },
  {
   "cell_type": "code",
   "execution_count": null,
   "metadata": {
    "collapsed": false
   },
   "outputs": [],
   "source": []
  },
  {
   "cell_type": "code",
   "execution_count": 10,
   "metadata": {
    "collapsed": false
   },
   "outputs": [
    {
     "name": "stdout",
     "output_type": "stream",
     "text": [
      "paso: 1    raiz: -0.25\n",
      "paso: 2    raiz: -0.375\n",
      "paso: 3    raiz: -0.4375\n",
      "paso: 4    raiz: -0.46875\n",
      "paso: 5    raiz: -0.453125\n",
      "paso: 6    raiz: -0.4609375\n",
      "paso: 7    raiz: -0.45703125\n",
      "paso: 8    raiz: -0.455078125\n",
      "paso: 9    raiz: -0.4560546875\n",
      "paso: 10    raiz: -0.45654296875\n",
      "paso: 11    raiz: -0.456298828125\n",
      "paso: 12    raiz: -0.456420898438\n",
      "paso: 13    raiz: -0.456481933594\n",
      "paso: 14    raiz: -0.456512451172\n",
      "paso: 15    raiz: -0.456497192383\n",
      "paso: 16    raiz: -0.456489562988\n",
      "paso: 17    raiz: -0.456493377686\n",
      "paso: 18    raiz: -0.456491470337\n",
      "paso: 19    raiz: -0.456490516663\n",
      "paso: 20    raiz: -0.456490039825\n",
      "paso: 21    raiz: -0.456490278244\n",
      "paso: 22    raiz: -0.456490397453\n",
      "paso: 23    raiz: -0.456490457058\n"
     ]
    },
    {
     "data": {
      "text/plain": [
       "-0.4564904570579529"
      ]
     },
     "execution_count": 10,
     "metadata": {},
     "output_type": "execute_result"
    }
   ],
   "source": [
    "raiz_bip(func2,-1,0)"
   ]
  },
  {
   "cell_type": "code",
   "execution_count": 11,
   "metadata": {
    "collapsed": false
   },
   "outputs": [
    {
     "name": "stdout",
     "output_type": "stream",
     "text": [
      "0 -3\n",
      "1 -2.9318062049\n",
      "2 -2.94229732506\n",
      "3 -2.94267765788\n"
     ]
    },
    {
     "data": {
      "text/plain": [
       "-2.9426781275819383"
      ]
     },
     "execution_count": 11,
     "metadata": {},
     "output_type": "execute_result"
    }
   ],
   "source": [
    "mi_newton1(func2,d_func2,-3)"
   ]
  },
  {
   "cell_type": "code",
   "execution_count": 36,
   "metadata": {
    "collapsed": true
   },
   "outputs": [],
   "source": [
    "def dev_num(func,x,h=1e-4):\n",
    "    return (func(x+h)-func(x-h))/(2.*h)"
   ]
  },
  {
   "cell_type": "code",
   "execution_count": 57,
   "metadata": {
    "collapsed": true
   },
   "outputs": [],
   "source": [
    "def mi_newton2(func,x_i, err = 1e-8):\n",
    "    n =0\n",
    "    while abs(func(x_i))>= err: \n",
    "        x_e = x_i - (func(x_i)/dev_num(func,x_i))\n",
    "        print n,x_i\n",
    "        x_i = x_e\n",
    "        n += 1\n",
    "    return x_e"
   ]
  },
  {
   "cell_type": "code",
   "execution_count": 64,
   "metadata": {
    "collapsed": false
   },
   "outputs": [
    {
     "name": "stdout",
     "output_type": "stream",
     "text": [
      "0 1.67079632679\n",
      "1 11.6374407667\n",
      "2 12.9753246623\n",
      "3 12.5419364293\n",
      "4 12.5663754782\n"
     ]
    },
    {
     "data": {
      "text/plain": [
       "12.566370614359165"
      ]
     },
     "execution_count": 64,
     "metadata": {},
     "output_type": "execute_result"
    }
   ],
   "source": [
    "mi_newton2(sin,(pi/2)+0.1)"
   ]
  },
  {
   "cell_type": "code",
   "execution_count": 69,
   "metadata": {
    "collapsed": true
   },
   "outputs": [],
   "source": [
    "def dev_numh4(func,x,h=1e-4):\n",
    "    return (8*func(x+h)-func(x+2*h)-8*func(x-h)+func(x-2*h))/(12.*h)"
   ]
  },
  {
   "cell_type": "code",
   "execution_count": 71,
   "metadata": {
    "collapsed": true
   },
   "outputs": [],
   "source": [
    "def mi_newton3(func,x_i, err = 1e-4):\n",
    "    n =0\n",
    "    while abs(func(x_i))>= err: \n",
    "        x_e = x_i - (func(x_i)/dev_numh4(func,x_i))\n",
    "        print n,x_i\n",
    "        x_i = x_e\n",
    "        n += 1\n",
    "    return x_e"
   ]
  },
  {
   "cell_type": "code",
   "execution_count": 70,
   "metadata": {
    "collapsed": false
   },
   "outputs": [
    {
     "name": "stdout",
     "output_type": "stream",
     "text": [
      "0.707106781187\n"
     ]
    },
    {
     "data": {
      "text/plain": [
       "0.70710678118646164"
      ]
     },
     "execution_count": 70,
     "metadata": {},
     "output_type": "execute_result"
    }
   ],
   "source": [
    "print cos(pi/4)\n",
    "dev_numh4(sin,pi/4)"
   ]
  },
  {
   "cell_type": "code",
   "execution_count": 72,
   "metadata": {
    "collapsed": false
   },
   "outputs": [
    {
     "name": "stdout",
     "output_type": "stream",
     "text": [
      "0 1.67079632679\n",
      "1 11.63744075\n",
      "2 12.9753246898\n",
      "3 12.5419364248\n"
     ]
    },
    {
     "data": {
      "text/plain": [
       "12.566375478165728"
      ]
     },
     "execution_count": 72,
     "metadata": {},
     "output_type": "execute_result"
    }
   ],
   "source": [
    "mi_newton3(sin,(pi/2)+0.1)"
   ]
  },
  {
   "cell_type": "code",
   "execution_count": null,
   "metadata": {
    "collapsed": true
   },
   "outputs": [],
   "source": []
  },
  {
   "cell_type": "code",
   "execution_count": null,
   "metadata": {
    "collapsed": true
   },
   "outputs": [],
   "source": []
  },
  {
   "cell_type": "code",
   "execution_count": null,
   "metadata": {
    "collapsed": true
   },
   "outputs": [],
   "source": []
  },
  {
   "cell_type": "code",
   "execution_count": null,
   "metadata": {
    "collapsed": true
   },
   "outputs": [],
   "source": []
  },
  {
   "cell_type": "code",
   "execution_count": null,
   "metadata": {
    "collapsed": true
   },
   "outputs": [],
   "source": []
  },
  {
   "cell_type": "code",
   "execution_count": null,
   "metadata": {
    "collapsed": true
   },
   "outputs": [],
   "source": []
  }
 ],
 "metadata": {
  "kernelspec": {
   "display_name": "Python [Root]",
   "language": "python",
   "name": "Python [Root]"
  },
  "language_info": {
   "codemirror_mode": {
    "name": "ipython",
    "version": 2
   },
   "file_extension": ".py",
   "mimetype": "text/x-python",
   "name": "python",
   "nbconvert_exporter": "python",
   "pygments_lexer": "ipython2",
   "version": "2.7.12"
  }
 },
 "nbformat": 4,
 "nbformat_minor": 0
}

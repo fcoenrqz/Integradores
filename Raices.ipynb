{
 "cells": [
  {
   "cell_type": "code",
   "execution_count": 1,
   "metadata": {
    "collapsed": true
   },
   "outputs": [],
   "source": [
    "from pylab import *\n",
    "%matplotlib inline"
   ]
  },
  {
   "cell_type": "code",
   "execution_count": 54,
   "metadata": {
    "collapsed": false
   },
   "outputs": [],
   "source": [
    "def raiz_bip(func,x_i,x_d,err=1e-5):\n",
    "    raiz = 0.5*(x_i+x_d)\n",
    "    y_i =func(x_i)\n",
    "    y_d = func(x_d)\n",
    "    n = 0\n",
    "    while abs(raiz-x_d) >= err and abs(y_i-y_d) >= err:\n",
    "        y_m = func(raiz)\n",
    "        if y_m == 0:\n",
    "            raiz = raiz\n",
    "            break\n",
    "        elif y_m *y_i <0:\n",
    "            x_d = raiz\n",
    "        else:\n",
    "            x_i = raiz\n",
    "        raiz = 0.5*(x_i+x_d)\n",
    "        y_i =func(x_i)\n",
    "        y_d = func(x_d)\n",
    "        n += 1\n",
    "        print \"paso:\",n, \"   raiz:\",raiz\n",
    "    return raiz\n",
    "           "
   ]
  },
  {
   "cell_type": "code",
   "execution_count": 51,
   "metadata": {
    "collapsed": false
   },
   "outputs": [
    {
     "data": {
      "image/png": "[encoded data removed]",
      "text/plain": [
       "<matplotlib.figure.Figure at 0x7fb15f4879d0>"
      ]
     },
     "metadata": {},
     "output_type": "display_data"
    }
   ],
   "source": [
    "x = linspace(-1,1)\n",
    "plot(x,sin(x))\n",
    "grid(True)"
   ]
  },
  {
   "cell_type": "code",
   "execution_count": 56,
   "metadata": {
    "collapsed": false
   },
   "outputs": [
    {
     "name": "stdout",
     "output_type": "stream",
     "text": [
      "paso: 1    raiz: 0.025\n",
      "paso: 2    raiz: -0.1375\n",
      "paso: 3    raiz: -0.05625\n",
      "paso: 4    raiz: -0.015625\n",
      "paso: 5    raiz: 0.0046875\n",
      "paso: 6    raiz: -0.00546875\n",
      "paso: 7    raiz: -0.000390625\n",
      "paso: 8    raiz: 0.0021484375\n",
      "paso: 9    raiz: 0.00087890625\n",
      "paso: 10    raiz: 0.000244140625\n",
      "paso: 11    raiz: -7.32421875e-05\n",
      "paso: 12    raiz: 8.544921875e-05\n",
      "paso: 13    raiz: 6.10351562499e-06\n",
      "paso: 14    raiz: -3.35693359375e-05\n",
      "paso: 15    raiz: -1.37329101563e-05\n",
      "paso: 16    raiz: -3.81469726563e-06\n"
     ]
    },
    {
     "data": {
      "text/plain": [
       "-3.814697265631405e-06"
      ]
     },
     "execution_count": 56,
     "metadata": {},
     "output_type": "execute_result"
    }
   ],
   "source": [
    "raiz_bip(sin,-0.3,1)"
   ]
  },
  {
   "cell_type": "code",
   "execution_count": 50,
   "metadata": {
    "collapsed": false
   },
   "outputs": [
    {
     "name": "stdout",
     "output_type": "stream",
     "text": [
      "paso: 1    raiz: 3.25\n",
      "paso: 2    raiz: 3.125\n",
      "paso: 3    raiz: 3.1875\n",
      "paso: 4    raiz: 3.15625\n",
      "paso: 5    raiz: 3.140625\n",
      "paso: 6    raiz: 3.1484375\n",
      "paso: 7    raiz: 3.14453125\n",
      "paso: 8    raiz: 3.142578125\n",
      "paso: 9    raiz: 3.1416015625\n",
      "paso: 10    raiz: 3.14111328125\n",
      "paso: 11    raiz: 3.14135742188\n",
      "paso: 12    raiz: 3.14147949219\n",
      "paso: 13    raiz: 3.14154052734\n",
      "paso: 14    raiz: 3.14157104492\n",
      "paso: 15    raiz: 3.14158630371\n",
      "paso: 16    raiz: 3.14159393311\n"
     ]
    },
    {
     "data": {
      "text/plain": [
       "3.1415939331054688"
      ]
     },
     "execution_count": 50,
     "metadata": {},
     "output_type": "execute_result"
    }
   ],
   "source": [
    "raiz_bip(sin,3,4)"
   ]
  },
  {
   "cell_type": "code",
   "execution_count": 49,
   "metadata": {
    "collapsed": false
   },
   "outputs": [
    {
     "name": "stdout",
     "output_type": "stream",
     "text": [
      "paso: 1    raiz: 1.25\n",
      "paso: 2    raiz: 1.625\n",
      "paso: 3    raiz: 1.4375\n",
      "paso: 4    raiz: 1.53125\n",
      "paso: 5    raiz: 1.578125\n",
      "paso: 6    raiz: 1.5546875\n",
      "paso: 7    raiz: 1.56640625\n",
      "paso: 8    raiz: 1.572265625\n",
      "paso: 9    raiz: 1.5693359375\n",
      "paso: 10    raiz: 1.57080078125\n",
      "paso: 11    raiz: 1.57006835938\n",
      "paso: 12    raiz: 1.57043457031\n",
      "paso: 13    raiz: 1.57061767578\n",
      "paso: 14    raiz: 1.57070922852\n",
      "paso: 15    raiz: 1.57075500488\n",
      "paso: 16    raiz: 1.57077789307\n",
      "paso: 17    raiz: 1.57078933716\n",
      "paso: 18    raiz: 1.5707950592\n"
     ]
    },
    {
     "data": {
      "text/plain": [
       "1.5707950592041016"
      ]
     },
     "execution_count": 49,
     "metadata": {},
     "output_type": "execute_result"
    }
   ],
   "source": [
    "raiz_bip(cos,-1,2)"
   ]
  },
  {
   "cell_type": "code",
   "execution_count": null,
   "metadata": {
    "collapsed": true
   },
   "outputs": [],
   "source": []
  },
  {
   "cell_type": "code",
   "execution_count": null,
   "metadata": {
    "collapsed": true
   },
   "outputs": [],
   "source": []
  },
  {
   "cell_type": "code",
   "execution_count": null,
   "metadata": {
    "collapsed": true
   },
   "outputs": [],
   "source": []
  },
  {
   "cell_type": "code",
   "execution_count": null,
   "metadata": {
    "collapsed": true
   },
   "outputs": [],
   "source": []
  },
  {
   "cell_type": "code",
   "execution_count": null,
   "metadata": {
    "collapsed": true
   },
   "outputs": [],
   "source": []
  },
  {
   "cell_type": "code",
   "execution_count": null,
   "metadata": {
    "collapsed": true
   },
   "outputs": [],
   "source": []
  },
  {
   "cell_type": "code",
   "execution_count": null,
   "metadata": {
    "collapsed": true
   },
   "outputs": [],
   "source": []
  },
  {
   "cell_type": "code",
   "execution_count": null,
   "metadata": {
    "collapsed": true
   },
   "outputs": [],
   "source": []
  },
  {
   "cell_type": "code",
   "execution_count": null,
   "metadata": {
    "collapsed": true
   },
   "outputs": [],
   "source": []
  },
  {
   "cell_type": "code",
   "execution_count": null,
   "metadata": {
    "collapsed": true
   },
   "outputs": [],
   "source": []
  },
  {
   "cell_type": "code",
   "execution_count": null,
   "metadata": {
    "collapsed": true
   },
   "outputs": [],
   "source": []
  },
  {
   "cell_type": "code",
   "execution_count": null,
   "metadata": {
    "collapsed": true
   },
   "outputs": [],
   "source": []
  },
  {
   "cell_type": "code",
   "execution_count": null,
   "metadata": {
    "collapsed": true
   },
   "outputs": [],
   "source": []
  },
  {
   "cell_type": "code",
   "execution_count": null,
   "metadata": {
    "collapsed": true
   },
   "outputs": [],
   "source": []
  },
  {
   "cell_type": "code",
   "execution_count": null,
   "metadata": {
    "collapsed": true
   },
   "outputs": [],
   "source": []
  },
  {
   "cell_type": "code",
   "execution_count": null,
   "metadata": {
    "collapsed": true
   },
   "outputs": [],
   "source": []
  },
  {
   "cell_type": "code",
   "execution_count": null,
   "metadata": {
    "collapsed": true
   },
   "outputs": [],
   "source": []
  },
  {
   "cell_type": "code",
   "execution_count": null,
   "metadata": {
    "collapsed": true
   },
   "outputs": [],
   "source": []
  },
  {
   "cell_type": "code",
   "execution_count": null,
   "metadata": {
    "collapsed": true
   },
   "outputs": [],
   "source": []
  },
  {
   "cell_type": "code",
   "execution_count": null,
   "metadata": {
    "collapsed": true
   },
   "outputs": [],
   "source": []
  },
  {
   "cell_type": "code",
   "execution_count": null,
   "metadata": {
    "collapsed": true
   },
   "outputs": [],
   "source": []
  },
  {
   "cell_type": "code",
   "execution_count": null,
   "metadata": {
    "collapsed": true
   },
   "outputs": [],
   "source": []
  }
 ],
 "metadata": {
  "kernelspec": {
   "display_name": "Python [Root]",
   "language": "python",
   "name": "Python [Root]"
  },
  "language_info": {
   "codemirror_mode": {
    "name": "ipython",
    "version": 2
   },
   "file_extension": ".py",
   "mimetype": "text/x-python",
   "name": "python",
   "nbconvert_exporter": "python",
   "pygments_lexer": "ipython2",
   "version": "2.7.12"
  }
 },
 "nbformat": 4,
 "nbformat_minor": 0
}
